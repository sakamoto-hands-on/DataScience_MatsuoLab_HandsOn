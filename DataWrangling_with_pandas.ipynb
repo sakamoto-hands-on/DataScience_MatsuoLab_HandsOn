{
  "nbformat": 4,
  "nbformat_minor": 0,
  "metadata": {
    "colab": {
      "name": "DataWrangling_with_pandas.ipynb",
      "provenance": [],
      "collapsed_sections": [],
      "include_colab_link": true
    },
    "kernelspec": {
      "name": "python3",
      "display_name": "Python 3"
    }
  },
  "cells": [
    {
      "cell_type": "markdown",
      "metadata": {
        "id": "view-in-github",
        "colab_type": "text"
      },
      "source": [
        "<a href=\"https://colab.research.google.com/github/sakamoto-hands-on/DataScience_MatsuoLab_HandsOn/blob/master/DataWrangling_with_pandas.ipynb\" target=\"_parent\"><img src=\"https://colab.research.google.com/assets/colab-badge.svg\" alt=\"Open In Colab\"/></a>"
      ]
    },
    {
      "cell_type": "markdown",
      "metadata": {
        "id": "Md2Xv1yVq0pd",
        "colab_type": "text"
      },
      "source": [
        "# Pandasを使ったデータ加工処理\n",
        "\n",
        "### [松尾研究室のデータサイエンティスト講座 公開ページ](https://weblab.t.u-tokyo.ac.jp/en/gci_contents/)を参考に、手を動かしながら学ぶ"
      ]
    },
    {
      "cell_type": "markdown",
      "metadata": {
        "id": "dodKSNd2q6XY",
        "colab_type": "text"
      },
      "source": [
        "## 階層型インデックス"
      ]
    },
    {
      "cell_type": "markdown",
      "metadata": {
        "id": "cerp2iGjrDvM",
        "colab_type": "text"
      },
      "source": [
        "<練習問題 1>\n",
        "\n",
        "次のデータに対して、Kyotoの列だけ抜き出してみましょう。"
      ]
    },
    {
      "cell_type": "code",
      "metadata": {
        "id": "w_hdoz5SrKuQ",
        "colab_type": "code",
        "outputId": "0e4532ab-b515-4696-da17-f1d552b88a9a",
        "colab": {
          "base_uri": "https://localhost:8080/",
          "height": 34
        }
      },
      "source": [
        "# 以下のモジュールを使うので、あらかじめ読み込んでおいてください\n",
        "import numpy as np\n",
        "import numpy.random as random\n",
        "import scipy as sp\n",
        "import pandas as pd\n",
        "from pandas import Series, DataFrame\n",
        "\n",
        "# 可視化モジュール\n",
        "import matplotlib.pyplot as plt\n",
        "import matplotlib as mpl\n",
        "import seaborn as sns\n",
        "%matplotlib inline\n",
        "\n",
        "# 小数第３まで表示\n",
        "%precision 3"
      ],
      "execution_count": 1,
      "outputs": [
        {
          "output_type": "execute_result",
          "data": {
            "text/plain": [
              "'%.3f'"
            ]
          },
          "metadata": {
            "tags": []
          },
          "execution_count": 1
        }
      ]
    },
    {
      "cell_type": "code",
      "metadata": {
        "id": "1hRg7BkEqq2T",
        "colab_type": "code",
        "outputId": "22f1259d-a1da-4bdb-b334-7ef6490fdf82",
        "colab": {
          "base_uri": "https://localhost:8080/",
          "height": 204
        }
      },
      "source": [
        "hier_data_frame1 = DataFrame(np.arange(12).reshape((3,4))\n",
        "                           ,index = [['c','d','d'],[1,2,1]]\n",
        "                           ,columns = [['Kyoto','Nagoya','Hokkaido','Kyoto']\n",
        "                                      ,['Yellow','Yellow','Red','Blue']]\n",
        "                           )\n",
        "\n",
        "hier_data_frame1.index.names =['key1','key2']\n",
        "hier_data_frame1.columns.names =['city','color']\n",
        "hier_data_frame1"
      ],
      "execution_count": 2,
      "outputs": [
        {
          "output_type": "execute_result",
          "data": {
            "text/html": [
              "<div>\n",
              "<style scoped>\n",
              "    .dataframe tbody tr th:only-of-type {\n",
              "        vertical-align: middle;\n",
              "    }\n",
              "\n",
              "    .dataframe tbody tr th {\n",
              "        vertical-align: top;\n",
              "    }\n",
              "\n",
              "    .dataframe thead tr th {\n",
              "        text-align: left;\n",
              "    }\n",
              "\n",
              "    .dataframe thead tr:last-of-type th {\n",
              "        text-align: right;\n",
              "    }\n",
              "</style>\n",
              "<table border=\"1\" class=\"dataframe\">\n",
              "  <thead>\n",
              "    <tr>\n",
              "      <th></th>\n",
              "      <th>city</th>\n",
              "      <th>Kyoto</th>\n",
              "      <th>Nagoya</th>\n",
              "      <th>Hokkaido</th>\n",
              "      <th>Kyoto</th>\n",
              "    </tr>\n",
              "    <tr>\n",
              "      <th></th>\n",
              "      <th>color</th>\n",
              "      <th>Yellow</th>\n",
              "      <th>Yellow</th>\n",
              "      <th>Red</th>\n",
              "      <th>Blue</th>\n",
              "    </tr>\n",
              "    <tr>\n",
              "      <th>key1</th>\n",
              "      <th>key2</th>\n",
              "      <th></th>\n",
              "      <th></th>\n",
              "      <th></th>\n",
              "      <th></th>\n",
              "    </tr>\n",
              "  </thead>\n",
              "  <tbody>\n",
              "    <tr>\n",
              "      <th>c</th>\n",
              "      <th>1</th>\n",
              "      <td>0</td>\n",
              "      <td>1</td>\n",
              "      <td>2</td>\n",
              "      <td>3</td>\n",
              "    </tr>\n",
              "    <tr>\n",
              "      <th rowspan=\"2\" valign=\"top\">d</th>\n",
              "      <th>2</th>\n",
              "      <td>4</td>\n",
              "      <td>5</td>\n",
              "      <td>6</td>\n",
              "      <td>7</td>\n",
              "    </tr>\n",
              "    <tr>\n",
              "      <th>1</th>\n",
              "      <td>8</td>\n",
              "      <td>9</td>\n",
              "      <td>10</td>\n",
              "      <td>11</td>\n",
              "    </tr>\n",
              "  </tbody>\n",
              "</table>\n",
              "</div>"
            ],
            "text/plain": [
              "city       Kyoto Nagoya Hokkaido Kyoto\n",
              "color     Yellow Yellow      Red  Blue\n",
              "key1 key2                             \n",
              "c    1         0      1        2     3\n",
              "d    2         4      5        6     7\n",
              "     1         8      9       10    11"
            ]
          },
          "metadata": {
            "tags": []
          },
          "execution_count": 2
        }
      ]
    },
    {
      "cell_type": "code",
      "metadata": {
        "id": "iJv2IjLfrYYo",
        "colab_type": "code",
        "outputId": "f17c6e6a-3766-4cf5-fb48-82e14f444c80",
        "colab": {
          "base_uri": "https://localhost:8080/",
          "height": 173
        }
      },
      "source": [
        "hier_data_frame1['Kyoto']"
      ],
      "execution_count": 3,
      "outputs": [
        {
          "output_type": "execute_result",
          "data": {
            "text/html": [
              "<div>\n",
              "<style scoped>\n",
              "    .dataframe tbody tr th:only-of-type {\n",
              "        vertical-align: middle;\n",
              "    }\n",
              "\n",
              "    .dataframe tbody tr th {\n",
              "        vertical-align: top;\n",
              "    }\n",
              "\n",
              "    .dataframe thead th {\n",
              "        text-align: right;\n",
              "    }\n",
              "</style>\n",
              "<table border=\"1\" class=\"dataframe\">\n",
              "  <thead>\n",
              "    <tr style=\"text-align: right;\">\n",
              "      <th></th>\n",
              "      <th>color</th>\n",
              "      <th>Yellow</th>\n",
              "      <th>Blue</th>\n",
              "    </tr>\n",
              "    <tr>\n",
              "      <th>key1</th>\n",
              "      <th>key2</th>\n",
              "      <th></th>\n",
              "      <th></th>\n",
              "    </tr>\n",
              "  </thead>\n",
              "  <tbody>\n",
              "    <tr>\n",
              "      <th>c</th>\n",
              "      <th>1</th>\n",
              "      <td>0</td>\n",
              "      <td>3</td>\n",
              "    </tr>\n",
              "    <tr>\n",
              "      <th rowspan=\"2\" valign=\"top\">d</th>\n",
              "      <th>2</th>\n",
              "      <td>4</td>\n",
              "      <td>7</td>\n",
              "    </tr>\n",
              "    <tr>\n",
              "      <th>1</th>\n",
              "      <td>8</td>\n",
              "      <td>11</td>\n",
              "    </tr>\n",
              "  </tbody>\n",
              "</table>\n",
              "</div>"
            ],
            "text/plain": [
              "color      Yellow  Blue\n",
              "key1 key2              \n",
              "c    1          0     3\n",
              "d    2          4     7\n",
              "     1          8    11"
            ]
          },
          "metadata": {
            "tags": []
          },
          "execution_count": 3
        }
      ]
    },
    {
      "cell_type": "markdown",
      "metadata": {
        "id": "yeQ76d_breb3",
        "colab_type": "text"
      },
      "source": [
        "\n",
        "\n",
        "---\n",
        "\n"
      ]
    },
    {
      "cell_type": "markdown",
      "metadata": {
        "id": "PigT-jVCriDW",
        "colab_type": "text"
      },
      "source": [
        "<練習問題 2>\n",
        "\n",
        "練習問題1のデータに対して、cityをまとめて列同士の平均値を出してください。"
      ]
    },
    {
      "cell_type": "code",
      "metadata": {
        "id": "4DPwuhm0rjKw",
        "colab_type": "code",
        "outputId": "cf2d20ee-064b-46bd-ecb8-9fad6965dff3",
        "colab": {
          "base_uri": "https://localhost:8080/",
          "height": 311
        }
      },
      "source": [
        "hier_data_frame1.groupby(['Kyoto', 'Nagoya', 'Hokkaido']).mean()"
      ],
      "execution_count": 4,
      "outputs": [
        {
          "output_type": "error",
          "ename": "ValueError",
          "evalue": "ignored",
          "traceback": [
            "\u001b[0;31m---------------------------------------------------------------------------\u001b[0m",
            "\u001b[0;31mValueError\u001b[0m                                Traceback (most recent call last)",
            "\u001b[0;32m<ipython-input-4-557ff59f31ec>\u001b[0m in \u001b[0;36m<module>\u001b[0;34m()\u001b[0m\n\u001b[0;32m----> 1\u001b[0;31m \u001b[0mhier_data_frame1\u001b[0m\u001b[0;34m.\u001b[0m\u001b[0mgroupby\u001b[0m\u001b[0;34m(\u001b[0m\u001b[0;34m[\u001b[0m\u001b[0;34m'Kyoto'\u001b[0m\u001b[0;34m,\u001b[0m \u001b[0;34m'Nagoya'\u001b[0m\u001b[0;34m,\u001b[0m \u001b[0;34m'Hokkaido'\u001b[0m\u001b[0;34m]\u001b[0m\u001b[0;34m)\u001b[0m\u001b[0;34m.\u001b[0m\u001b[0mmean\u001b[0m\u001b[0;34m(\u001b[0m\u001b[0;34m)\u001b[0m\u001b[0;34m\u001b[0m\u001b[0;34m\u001b[0m\u001b[0m\n\u001b[0m",
            "\u001b[0;32m/usr/local/lib/python3.6/dist-packages/pandas/core/generic.py\u001b[0m in \u001b[0;36mgroupby\u001b[0;34m(self, by, axis, level, as_index, sort, group_keys, squeeze, observed, **kwargs)\u001b[0m\n\u001b[1;32m   7892\u001b[0m             \u001b[0msqueeze\u001b[0m\u001b[0;34m=\u001b[0m\u001b[0msqueeze\u001b[0m\u001b[0;34m,\u001b[0m\u001b[0;34m\u001b[0m\u001b[0;34m\u001b[0m\u001b[0m\n\u001b[1;32m   7893\u001b[0m             \u001b[0mobserved\u001b[0m\u001b[0;34m=\u001b[0m\u001b[0mobserved\u001b[0m\u001b[0;34m,\u001b[0m\u001b[0;34m\u001b[0m\u001b[0;34m\u001b[0m\u001b[0m\n\u001b[0;32m-> 7894\u001b[0;31m             \u001b[0;34m**\u001b[0m\u001b[0mkwargs\u001b[0m\u001b[0;34m\u001b[0m\u001b[0;34m\u001b[0m\u001b[0m\n\u001b[0m\u001b[1;32m   7895\u001b[0m         )\n\u001b[1;32m   7896\u001b[0m \u001b[0;34m\u001b[0m\u001b[0m\n",
            "\u001b[0;32m/usr/local/lib/python3.6/dist-packages/pandas/core/groupby/groupby.py\u001b[0m in \u001b[0;36mgroupby\u001b[0;34m(obj, by, **kwds)\u001b[0m\n\u001b[1;32m   2520\u001b[0m         \u001b[0;32mraise\u001b[0m \u001b[0mTypeError\u001b[0m\u001b[0;34m(\u001b[0m\u001b[0;34m\"invalid type: {}\"\u001b[0m\u001b[0;34m.\u001b[0m\u001b[0mformat\u001b[0m\u001b[0;34m(\u001b[0m\u001b[0mobj\u001b[0m\u001b[0;34m)\u001b[0m\u001b[0;34m)\u001b[0m\u001b[0;34m\u001b[0m\u001b[0;34m\u001b[0m\u001b[0m\n\u001b[1;32m   2521\u001b[0m \u001b[0;34m\u001b[0m\u001b[0m\n\u001b[0;32m-> 2522\u001b[0;31m     \u001b[0;32mreturn\u001b[0m \u001b[0mklass\u001b[0m\u001b[0;34m(\u001b[0m\u001b[0mobj\u001b[0m\u001b[0;34m,\u001b[0m \u001b[0mby\u001b[0m\u001b[0;34m,\u001b[0m \u001b[0;34m**\u001b[0m\u001b[0mkwds\u001b[0m\u001b[0;34m)\u001b[0m\u001b[0;34m\u001b[0m\u001b[0;34m\u001b[0m\u001b[0m\n\u001b[0m",
            "\u001b[0;32m/usr/local/lib/python3.6/dist-packages/pandas/core/groupby/groupby.py\u001b[0m in \u001b[0;36m__init__\u001b[0;34m(self, obj, keys, axis, level, grouper, exclusions, selection, as_index, sort, group_keys, squeeze, observed, **kwargs)\u001b[0m\n\u001b[1;32m    389\u001b[0m                 \u001b[0msort\u001b[0m\u001b[0;34m=\u001b[0m\u001b[0msort\u001b[0m\u001b[0;34m,\u001b[0m\u001b[0;34m\u001b[0m\u001b[0;34m\u001b[0m\u001b[0m\n\u001b[1;32m    390\u001b[0m                 \u001b[0mobserved\u001b[0m\u001b[0;34m=\u001b[0m\u001b[0mobserved\u001b[0m\u001b[0;34m,\u001b[0m\u001b[0;34m\u001b[0m\u001b[0;34m\u001b[0m\u001b[0m\n\u001b[0;32m--> 391\u001b[0;31m                 \u001b[0mmutated\u001b[0m\u001b[0;34m=\u001b[0m\u001b[0mself\u001b[0m\u001b[0;34m.\u001b[0m\u001b[0mmutated\u001b[0m\u001b[0;34m,\u001b[0m\u001b[0;34m\u001b[0m\u001b[0;34m\u001b[0m\u001b[0m\n\u001b[0m\u001b[1;32m    392\u001b[0m             )\n\u001b[1;32m    393\u001b[0m \u001b[0;34m\u001b[0m\u001b[0m\n",
            "\u001b[0;32m/usr/local/lib/python3.6/dist-packages/pandas/core/groupby/grouper.py\u001b[0m in \u001b[0;36m_get_grouper\u001b[0;34m(obj, key, axis, level, sort, observed, mutated, validate)\u001b[0m\n\u001b[1;32m    650\u001b[0m                 \u001b[0min_axis\u001b[0m\u001b[0;34m=\u001b[0m\u001b[0min_axis\u001b[0m\u001b[0;34m,\u001b[0m\u001b[0;34m\u001b[0m\u001b[0;34m\u001b[0m\u001b[0m\n\u001b[1;32m    651\u001b[0m             )\n\u001b[0;32m--> 652\u001b[0;31m             \u001b[0;32mif\u001b[0m \u001b[0;32mnot\u001b[0m \u001b[0misinstance\u001b[0m\u001b[0;34m(\u001b[0m\u001b[0mgpr\u001b[0m\u001b[0;34m,\u001b[0m \u001b[0mGrouping\u001b[0m\u001b[0;34m)\u001b[0m\u001b[0;34m\u001b[0m\u001b[0;34m\u001b[0m\u001b[0m\n\u001b[0m\u001b[1;32m    653\u001b[0m             \u001b[0;32melse\u001b[0m \u001b[0mgpr\u001b[0m\u001b[0;34m\u001b[0m\u001b[0;34m\u001b[0m\u001b[0m\n\u001b[1;32m    654\u001b[0m         )\n",
            "\u001b[0;32m/usr/local/lib/python3.6/dist-packages/pandas/core/groupby/grouper.py\u001b[0m in \u001b[0;36m__init__\u001b[0;34m(self, index, grouper, obj, name, level, sort, observed, in_axis)\u001b[0m\n\u001b[1;32m    345\u001b[0m                 \u001b[0;32mif\u001b[0m \u001b[0mgetattr\u001b[0m\u001b[0;34m(\u001b[0m\u001b[0mself\u001b[0m\u001b[0;34m.\u001b[0m\u001b[0mgrouper\u001b[0m\u001b[0;34m,\u001b[0m \u001b[0;34m\"ndim\"\u001b[0m\u001b[0;34m,\u001b[0m \u001b[0;36m1\u001b[0m\u001b[0;34m)\u001b[0m \u001b[0;34m!=\u001b[0m \u001b[0;36m1\u001b[0m\u001b[0;34m:\u001b[0m\u001b[0;34m\u001b[0m\u001b[0;34m\u001b[0m\u001b[0m\n\u001b[1;32m    346\u001b[0m                     \u001b[0mt\u001b[0m \u001b[0;34m=\u001b[0m \u001b[0mself\u001b[0m\u001b[0;34m.\u001b[0m\u001b[0mname\u001b[0m \u001b[0;32mor\u001b[0m \u001b[0mstr\u001b[0m\u001b[0;34m(\u001b[0m\u001b[0mtype\u001b[0m\u001b[0;34m(\u001b[0m\u001b[0mself\u001b[0m\u001b[0;34m.\u001b[0m\u001b[0mgrouper\u001b[0m\u001b[0;34m)\u001b[0m\u001b[0;34m)\u001b[0m\u001b[0;34m\u001b[0m\u001b[0;34m\u001b[0m\u001b[0m\n\u001b[0;32m--> 347\u001b[0;31m                     \u001b[0;32mraise\u001b[0m \u001b[0mValueError\u001b[0m\u001b[0;34m(\u001b[0m\u001b[0;34m\"Grouper for '{}' not 1-dimensional\"\u001b[0m\u001b[0;34m.\u001b[0m\u001b[0mformat\u001b[0m\u001b[0;34m(\u001b[0m\u001b[0mt\u001b[0m\u001b[0;34m)\u001b[0m\u001b[0;34m)\u001b[0m\u001b[0;34m\u001b[0m\u001b[0;34m\u001b[0m\u001b[0m\n\u001b[0m\u001b[1;32m    348\u001b[0m                 \u001b[0mself\u001b[0m\u001b[0;34m.\u001b[0m\u001b[0mgrouper\u001b[0m \u001b[0;34m=\u001b[0m \u001b[0mself\u001b[0m\u001b[0;34m.\u001b[0m\u001b[0mindex\u001b[0m\u001b[0;34m.\u001b[0m\u001b[0mmap\u001b[0m\u001b[0;34m(\u001b[0m\u001b[0mself\u001b[0m\u001b[0;34m.\u001b[0m\u001b[0mgrouper\u001b[0m\u001b[0;34m)\u001b[0m\u001b[0;34m\u001b[0m\u001b[0;34m\u001b[0m\u001b[0m\n\u001b[1;32m    349\u001b[0m                 if not (\n",
            "\u001b[0;31mValueError\u001b[0m: Grouper for 'Kyoto' not 1-dimensional"
          ]
        }
      ]
    },
    {
      "cell_type": "markdown",
      "metadata": {
        "id": "UtpjhHRguVED",
        "colab_type": "text"
      },
      "source": [
        "ネットで調べてみたところ、京都の列が二つあることでこのエラーがでているようです。\n",
        "さらに色の列名がつけられていて、一つはYellowでもう一つはBlue。これはどういうデータを想定しているのか、ちょっと分かりかねたので、スキップすることにしました。"
      ]
    },
    {
      "cell_type": "markdown",
      "metadata": {
        "id": "gI1VktI3vc36",
        "colab_type": "text"
      },
      "source": [
        "\n",
        "\n",
        "---\n",
        "\n"
      ]
    },
    {
      "cell_type": "markdown",
      "metadata": {
        "id": "OnpfH7Ugu1zS",
        "colab_type": "text"
      },
      "source": [
        "<練習問題 3>\n",
        "\n",
        "練習問題1のデータに対して、key2ごとに行の合計値を算出してみましょう。"
      ]
    },
    {
      "cell_type": "code",
      "metadata": {
        "id": "tLice6XYu4y3",
        "colab_type": "code",
        "outputId": "1b4bb017-9394-4d9f-92a6-73fd245ab027",
        "colab": {
          "base_uri": "https://localhost:8080/",
          "height": 173
        }
      },
      "source": [
        "hier_data_frame1.sum(level=1)"
      ],
      "execution_count": 8,
      "outputs": [
        {
          "output_type": "execute_result",
          "data": {
            "text/html": [
              "<div>\n",
              "<style scoped>\n",
              "    .dataframe tbody tr th:only-of-type {\n",
              "        vertical-align: middle;\n",
              "    }\n",
              "\n",
              "    .dataframe tbody tr th {\n",
              "        vertical-align: top;\n",
              "    }\n",
              "\n",
              "    .dataframe thead tr th {\n",
              "        text-align: left;\n",
              "    }\n",
              "\n",
              "    .dataframe thead tr:last-of-type th {\n",
              "        text-align: right;\n",
              "    }\n",
              "</style>\n",
              "<table border=\"1\" class=\"dataframe\">\n",
              "  <thead>\n",
              "    <tr>\n",
              "      <th>city</th>\n",
              "      <th>Kyoto</th>\n",
              "      <th>Nagoya</th>\n",
              "      <th>Hokkaido</th>\n",
              "      <th>Kyoto</th>\n",
              "    </tr>\n",
              "    <tr>\n",
              "      <th>color</th>\n",
              "      <th>Yellow</th>\n",
              "      <th>Yellow</th>\n",
              "      <th>Red</th>\n",
              "      <th>Blue</th>\n",
              "    </tr>\n",
              "    <tr>\n",
              "      <th>key2</th>\n",
              "      <th></th>\n",
              "      <th></th>\n",
              "      <th></th>\n",
              "      <th></th>\n",
              "    </tr>\n",
              "  </thead>\n",
              "  <tbody>\n",
              "    <tr>\n",
              "      <th>1</th>\n",
              "      <td>8</td>\n",
              "      <td>10</td>\n",
              "      <td>12</td>\n",
              "      <td>14</td>\n",
              "    </tr>\n",
              "    <tr>\n",
              "      <th>2</th>\n",
              "      <td>4</td>\n",
              "      <td>5</td>\n",
              "      <td>6</td>\n",
              "      <td>7</td>\n",
              "    </tr>\n",
              "  </tbody>\n",
              "</table>\n",
              "</div>"
            ],
            "text/plain": [
              "city   Kyoto Nagoya Hokkaido Kyoto\n",
              "color Yellow Yellow      Red  Blue\n",
              "key2                              \n",
              "1          8     10       12    14\n",
              "2          4      5        6     7"
            ]
          },
          "metadata": {
            "tags": []
          },
          "execution_count": 8
        }
      ]
    },
    {
      "cell_type": "markdown",
      "metadata": {
        "id": "i3agjNsxvemu",
        "colab_type": "text"
      },
      "source": [
        "\n",
        "\n",
        "---\n",
        "\n"
      ]
    },
    {
      "cell_type": "markdown",
      "metadata": {
        "id": "dyzjEf5iviMJ",
        "colab_type": "text"
      },
      "source": [
        "## データのマージ"
      ]
    },
    {
      "cell_type": "markdown",
      "metadata": {
        "id": "0-zgUOpr0RfE",
        "colab_type": "text"
      },
      "source": [
        "<練習問題 1>\n",
        "\n",
        "下記の2つのデータテーブルに対して、内部結合してみましょう。"
      ]
    },
    {
      "cell_type": "code",
      "metadata": {
        "id": "cz9AgMik0SII",
        "colab_type": "code",
        "outputId": "538551d6-2eea-454b-955a-dcaa8ce7f13f",
        "colab": {
          "base_uri": "https://localhost:8080/",
          "height": 359
        }
      },
      "source": [
        "# データ4の準備\n",
        "attri_data4 = {'ID':['0','1','2','3','4','6','8','11','12','13']\n",
        "        ,'city':['Tokyo','Osaka','Kyoto','Hokkaido','Tokyo','Tokyo','Osaka','Kyoto','Hokkaido','Tokyo']\n",
        "        ,'birth_year':[1990,1989,1992,1997,1982,1991,1988,1990,1995,1981]\n",
        "        ,'name':['Hiroshi','Akiko','Yuki','Satoru','Steeve','Mituru','Aoi','Tarou','Suguru','Mitsuo']}\n",
        "attri_data_frame4 = DataFrame(attri_data4)\n",
        "attri_data_frame4"
      ],
      "execution_count": 9,
      "outputs": [
        {
          "output_type": "execute_result",
          "data": {
            "text/html": [
              "<div>\n",
              "<style scoped>\n",
              "    .dataframe tbody tr th:only-of-type {\n",
              "        vertical-align: middle;\n",
              "    }\n",
              "\n",
              "    .dataframe tbody tr th {\n",
              "        vertical-align: top;\n",
              "    }\n",
              "\n",
              "    .dataframe thead th {\n",
              "        text-align: right;\n",
              "    }\n",
              "</style>\n",
              "<table border=\"1\" class=\"dataframe\">\n",
              "  <thead>\n",
              "    <tr style=\"text-align: right;\">\n",
              "      <th></th>\n",
              "      <th>ID</th>\n",
              "      <th>city</th>\n",
              "      <th>birth_year</th>\n",
              "      <th>name</th>\n",
              "    </tr>\n",
              "  </thead>\n",
              "  <tbody>\n",
              "    <tr>\n",
              "      <th>0</th>\n",
              "      <td>0</td>\n",
              "      <td>Tokyo</td>\n",
              "      <td>1990</td>\n",
              "      <td>Hiroshi</td>\n",
              "    </tr>\n",
              "    <tr>\n",
              "      <th>1</th>\n",
              "      <td>1</td>\n",
              "      <td>Osaka</td>\n",
              "      <td>1989</td>\n",
              "      <td>Akiko</td>\n",
              "    </tr>\n",
              "    <tr>\n",
              "      <th>2</th>\n",
              "      <td>2</td>\n",
              "      <td>Kyoto</td>\n",
              "      <td>1992</td>\n",
              "      <td>Yuki</td>\n",
              "    </tr>\n",
              "    <tr>\n",
              "      <th>3</th>\n",
              "      <td>3</td>\n",
              "      <td>Hokkaido</td>\n",
              "      <td>1997</td>\n",
              "      <td>Satoru</td>\n",
              "    </tr>\n",
              "    <tr>\n",
              "      <th>4</th>\n",
              "      <td>4</td>\n",
              "      <td>Tokyo</td>\n",
              "      <td>1982</td>\n",
              "      <td>Steeve</td>\n",
              "    </tr>\n",
              "    <tr>\n",
              "      <th>5</th>\n",
              "      <td>6</td>\n",
              "      <td>Tokyo</td>\n",
              "      <td>1991</td>\n",
              "      <td>Mituru</td>\n",
              "    </tr>\n",
              "    <tr>\n",
              "      <th>6</th>\n",
              "      <td>8</td>\n",
              "      <td>Osaka</td>\n",
              "      <td>1988</td>\n",
              "      <td>Aoi</td>\n",
              "    </tr>\n",
              "    <tr>\n",
              "      <th>7</th>\n",
              "      <td>11</td>\n",
              "      <td>Kyoto</td>\n",
              "      <td>1990</td>\n",
              "      <td>Tarou</td>\n",
              "    </tr>\n",
              "    <tr>\n",
              "      <th>8</th>\n",
              "      <td>12</td>\n",
              "      <td>Hokkaido</td>\n",
              "      <td>1995</td>\n",
              "      <td>Suguru</td>\n",
              "    </tr>\n",
              "    <tr>\n",
              "      <th>9</th>\n",
              "      <td>13</td>\n",
              "      <td>Tokyo</td>\n",
              "      <td>1981</td>\n",
              "      <td>Mitsuo</td>\n",
              "    </tr>\n",
              "  </tbody>\n",
              "</table>\n",
              "</div>"
            ],
            "text/plain": [
              "   ID      city  birth_year     name\n",
              "0   0     Tokyo        1990  Hiroshi\n",
              "1   1     Osaka        1989    Akiko\n",
              "2   2     Kyoto        1992     Yuki\n",
              "3   3  Hokkaido        1997   Satoru\n",
              "4   4     Tokyo        1982   Steeve\n",
              "5   6     Tokyo        1991   Mituru\n",
              "6   8     Osaka        1988      Aoi\n",
              "7  11     Kyoto        1990    Tarou\n",
              "8  12  Hokkaido        1995   Suguru\n",
              "9  13     Tokyo        1981   Mitsuo"
            ]
          },
          "metadata": {
            "tags": []
          },
          "execution_count": 9
        }
      ]
    },
    {
      "cell_type": "code",
      "metadata": {
        "id": "itglyKQ90Xz3",
        "colab_type": "code",
        "outputId": "217956b5-e3c2-42ba-d6d5-977f409ab3ef",
        "colab": {
          "base_uri": "https://localhost:8080/",
          "height": 204
        }
      },
      "source": [
        "# データ5の準備\n",
        "attri_data5 = {'ID':['0','1','3','6','8']\n",
        "        ,'math':[20,30,50,70,90]\n",
        "        ,'English':[30,50,50,70,20]\n",
        "        ,'sex':['M','F','F','M','M']\n",
        "        ,'index_num':[0,1,2,3,4]}\n",
        "attri_data_frame5 = DataFrame(attri_data5)\n",
        "attri_data_frame5"
      ],
      "execution_count": 10,
      "outputs": [
        {
          "output_type": "execute_result",
          "data": {
            "text/html": [
              "<div>\n",
              "<style scoped>\n",
              "    .dataframe tbody tr th:only-of-type {\n",
              "        vertical-align: middle;\n",
              "    }\n",
              "\n",
              "    .dataframe tbody tr th {\n",
              "        vertical-align: top;\n",
              "    }\n",
              "\n",
              "    .dataframe thead th {\n",
              "        text-align: right;\n",
              "    }\n",
              "</style>\n",
              "<table border=\"1\" class=\"dataframe\">\n",
              "  <thead>\n",
              "    <tr style=\"text-align: right;\">\n",
              "      <th></th>\n",
              "      <th>ID</th>\n",
              "      <th>math</th>\n",
              "      <th>English</th>\n",
              "      <th>sex</th>\n",
              "      <th>index_num</th>\n",
              "    </tr>\n",
              "  </thead>\n",
              "  <tbody>\n",
              "    <tr>\n",
              "      <th>0</th>\n",
              "      <td>0</td>\n",
              "      <td>20</td>\n",
              "      <td>30</td>\n",
              "      <td>M</td>\n",
              "      <td>0</td>\n",
              "    </tr>\n",
              "    <tr>\n",
              "      <th>1</th>\n",
              "      <td>1</td>\n",
              "      <td>30</td>\n",
              "      <td>50</td>\n",
              "      <td>F</td>\n",
              "      <td>1</td>\n",
              "    </tr>\n",
              "    <tr>\n",
              "      <th>2</th>\n",
              "      <td>3</td>\n",
              "      <td>50</td>\n",
              "      <td>50</td>\n",
              "      <td>F</td>\n",
              "      <td>2</td>\n",
              "    </tr>\n",
              "    <tr>\n",
              "      <th>3</th>\n",
              "      <td>6</td>\n",
              "      <td>70</td>\n",
              "      <td>70</td>\n",
              "      <td>M</td>\n",
              "      <td>3</td>\n",
              "    </tr>\n",
              "    <tr>\n",
              "      <th>4</th>\n",
              "      <td>8</td>\n",
              "      <td>90</td>\n",
              "      <td>20</td>\n",
              "      <td>M</td>\n",
              "      <td>4</td>\n",
              "    </tr>\n",
              "  </tbody>\n",
              "</table>\n",
              "</div>"
            ],
            "text/plain": [
              "  ID  math  English sex  index_num\n",
              "0  0    20       30   M          0\n",
              "1  1    30       50   F          1\n",
              "2  3    50       50   F          2\n",
              "3  6    70       70   M          3\n",
              "4  8    90       20   M          4"
            ]
          },
          "metadata": {
            "tags": []
          },
          "execution_count": 10
        }
      ]
    },
    {
      "cell_type": "code",
      "metadata": {
        "id": "p76gnegC0dLJ",
        "colab_type": "code",
        "outputId": "981687ab-f7bf-407a-80d9-19e21a373f54",
        "colab": {
          "base_uri": "https://localhost:8080/",
          "height": 204
        }
      },
      "source": [
        "pd.merge(attri_data_frame4,attri_data_frame5,on='ID')"
      ],
      "execution_count": 11,
      "outputs": [
        {
          "output_type": "execute_result",
          "data": {
            "text/html": [
              "<div>\n",
              "<style scoped>\n",
              "    .dataframe tbody tr th:only-of-type {\n",
              "        vertical-align: middle;\n",
              "    }\n",
              "\n",
              "    .dataframe tbody tr th {\n",
              "        vertical-align: top;\n",
              "    }\n",
              "\n",
              "    .dataframe thead th {\n",
              "        text-align: right;\n",
              "    }\n",
              "</style>\n",
              "<table border=\"1\" class=\"dataframe\">\n",
              "  <thead>\n",
              "    <tr style=\"text-align: right;\">\n",
              "      <th></th>\n",
              "      <th>ID</th>\n",
              "      <th>city</th>\n",
              "      <th>birth_year</th>\n",
              "      <th>name</th>\n",
              "      <th>math</th>\n",
              "      <th>English</th>\n",
              "      <th>sex</th>\n",
              "      <th>index_num</th>\n",
              "    </tr>\n",
              "  </thead>\n",
              "  <tbody>\n",
              "    <tr>\n",
              "      <th>0</th>\n",
              "      <td>0</td>\n",
              "      <td>Tokyo</td>\n",
              "      <td>1990</td>\n",
              "      <td>Hiroshi</td>\n",
              "      <td>20</td>\n",
              "      <td>30</td>\n",
              "      <td>M</td>\n",
              "      <td>0</td>\n",
              "    </tr>\n",
              "    <tr>\n",
              "      <th>1</th>\n",
              "      <td>1</td>\n",
              "      <td>Osaka</td>\n",
              "      <td>1989</td>\n",
              "      <td>Akiko</td>\n",
              "      <td>30</td>\n",
              "      <td>50</td>\n",
              "      <td>F</td>\n",
              "      <td>1</td>\n",
              "    </tr>\n",
              "    <tr>\n",
              "      <th>2</th>\n",
              "      <td>3</td>\n",
              "      <td>Hokkaido</td>\n",
              "      <td>1997</td>\n",
              "      <td>Satoru</td>\n",
              "      <td>50</td>\n",
              "      <td>50</td>\n",
              "      <td>F</td>\n",
              "      <td>2</td>\n",
              "    </tr>\n",
              "    <tr>\n",
              "      <th>3</th>\n",
              "      <td>6</td>\n",
              "      <td>Tokyo</td>\n",
              "      <td>1991</td>\n",
              "      <td>Mituru</td>\n",
              "      <td>70</td>\n",
              "      <td>70</td>\n",
              "      <td>M</td>\n",
              "      <td>3</td>\n",
              "    </tr>\n",
              "    <tr>\n",
              "      <th>4</th>\n",
              "      <td>8</td>\n",
              "      <td>Osaka</td>\n",
              "      <td>1988</td>\n",
              "      <td>Aoi</td>\n",
              "      <td>90</td>\n",
              "      <td>20</td>\n",
              "      <td>M</td>\n",
              "      <td>4</td>\n",
              "    </tr>\n",
              "  </tbody>\n",
              "</table>\n",
              "</div>"
            ],
            "text/plain": [
              "  ID      city  birth_year     name  math  English sex  index_num\n",
              "0  0     Tokyo        1990  Hiroshi    20       30   M          0\n",
              "1  1     Osaka        1989    Akiko    30       50   F          1\n",
              "2  3  Hokkaido        1997   Satoru    50       50   F          2\n",
              "3  6     Tokyo        1991   Mituru    70       70   M          3\n",
              "4  8     Osaka        1988      Aoi    90       20   M          4"
            ]
          },
          "metadata": {
            "tags": []
          },
          "execution_count": 11
        }
      ]
    },
    {
      "cell_type": "markdown",
      "metadata": {
        "id": "reFkwOTX1vdt",
        "colab_type": "text"
      },
      "source": [
        "\n",
        "\n",
        "---\n",
        "\n"
      ]
    },
    {
      "cell_type": "markdown",
      "metadata": {
        "id": "0_cdLXyH1fLV",
        "colab_type": "text"
      },
      "source": [
        "<練習問題 2>\n",
        "\n",
        "attri_data_frame4をベースにattri_data_frame5のテーブルを外部結合してみましょう。"
      ]
    },
    {
      "cell_type": "code",
      "metadata": {
        "id": "RbQ08Vg71gMP",
        "colab_type": "code",
        "outputId": "9bea2e41-ab1e-4556-8d3d-2b944986ba07",
        "colab": {
          "base_uri": "https://localhost:8080/",
          "height": 359
        }
      },
      "source": [
        "pd.merge(attri_data_frame4,attri_data_frame5,how='outer')"
      ],
      "execution_count": 12,
      "outputs": [
        {
          "output_type": "execute_result",
          "data": {
            "text/html": [
              "<div>\n",
              "<style scoped>\n",
              "    .dataframe tbody tr th:only-of-type {\n",
              "        vertical-align: middle;\n",
              "    }\n",
              "\n",
              "    .dataframe tbody tr th {\n",
              "        vertical-align: top;\n",
              "    }\n",
              "\n",
              "    .dataframe thead th {\n",
              "        text-align: right;\n",
              "    }\n",
              "</style>\n",
              "<table border=\"1\" class=\"dataframe\">\n",
              "  <thead>\n",
              "    <tr style=\"text-align: right;\">\n",
              "      <th></th>\n",
              "      <th>ID</th>\n",
              "      <th>city</th>\n",
              "      <th>birth_year</th>\n",
              "      <th>name</th>\n",
              "      <th>math</th>\n",
              "      <th>English</th>\n",
              "      <th>sex</th>\n",
              "      <th>index_num</th>\n",
              "    </tr>\n",
              "  </thead>\n",
              "  <tbody>\n",
              "    <tr>\n",
              "      <th>0</th>\n",
              "      <td>0</td>\n",
              "      <td>Tokyo</td>\n",
              "      <td>1990</td>\n",
              "      <td>Hiroshi</td>\n",
              "      <td>20.0</td>\n",
              "      <td>30.0</td>\n",
              "      <td>M</td>\n",
              "      <td>0.0</td>\n",
              "    </tr>\n",
              "    <tr>\n",
              "      <th>1</th>\n",
              "      <td>1</td>\n",
              "      <td>Osaka</td>\n",
              "      <td>1989</td>\n",
              "      <td>Akiko</td>\n",
              "      <td>30.0</td>\n",
              "      <td>50.0</td>\n",
              "      <td>F</td>\n",
              "      <td>1.0</td>\n",
              "    </tr>\n",
              "    <tr>\n",
              "      <th>2</th>\n",
              "      <td>2</td>\n",
              "      <td>Kyoto</td>\n",
              "      <td>1992</td>\n",
              "      <td>Yuki</td>\n",
              "      <td>NaN</td>\n",
              "      <td>NaN</td>\n",
              "      <td>NaN</td>\n",
              "      <td>NaN</td>\n",
              "    </tr>\n",
              "    <tr>\n",
              "      <th>3</th>\n",
              "      <td>3</td>\n",
              "      <td>Hokkaido</td>\n",
              "      <td>1997</td>\n",
              "      <td>Satoru</td>\n",
              "      <td>50.0</td>\n",
              "      <td>50.0</td>\n",
              "      <td>F</td>\n",
              "      <td>2.0</td>\n",
              "    </tr>\n",
              "    <tr>\n",
              "      <th>4</th>\n",
              "      <td>4</td>\n",
              "      <td>Tokyo</td>\n",
              "      <td>1982</td>\n",
              "      <td>Steeve</td>\n",
              "      <td>NaN</td>\n",
              "      <td>NaN</td>\n",
              "      <td>NaN</td>\n",
              "      <td>NaN</td>\n",
              "    </tr>\n",
              "    <tr>\n",
              "      <th>5</th>\n",
              "      <td>6</td>\n",
              "      <td>Tokyo</td>\n",
              "      <td>1991</td>\n",
              "      <td>Mituru</td>\n",
              "      <td>70.0</td>\n",
              "      <td>70.0</td>\n",
              "      <td>M</td>\n",
              "      <td>3.0</td>\n",
              "    </tr>\n",
              "    <tr>\n",
              "      <th>6</th>\n",
              "      <td>8</td>\n",
              "      <td>Osaka</td>\n",
              "      <td>1988</td>\n",
              "      <td>Aoi</td>\n",
              "      <td>90.0</td>\n",
              "      <td>20.0</td>\n",
              "      <td>M</td>\n",
              "      <td>4.0</td>\n",
              "    </tr>\n",
              "    <tr>\n",
              "      <th>7</th>\n",
              "      <td>11</td>\n",
              "      <td>Kyoto</td>\n",
              "      <td>1990</td>\n",
              "      <td>Tarou</td>\n",
              "      <td>NaN</td>\n",
              "      <td>NaN</td>\n",
              "      <td>NaN</td>\n",
              "      <td>NaN</td>\n",
              "    </tr>\n",
              "    <tr>\n",
              "      <th>8</th>\n",
              "      <td>12</td>\n",
              "      <td>Hokkaido</td>\n",
              "      <td>1995</td>\n",
              "      <td>Suguru</td>\n",
              "      <td>NaN</td>\n",
              "      <td>NaN</td>\n",
              "      <td>NaN</td>\n",
              "      <td>NaN</td>\n",
              "    </tr>\n",
              "    <tr>\n",
              "      <th>9</th>\n",
              "      <td>13</td>\n",
              "      <td>Tokyo</td>\n",
              "      <td>1981</td>\n",
              "      <td>Mitsuo</td>\n",
              "      <td>NaN</td>\n",
              "      <td>NaN</td>\n",
              "      <td>NaN</td>\n",
              "      <td>NaN</td>\n",
              "    </tr>\n",
              "  </tbody>\n",
              "</table>\n",
              "</div>"
            ],
            "text/plain": [
              "   ID      city  birth_year     name  math  English  sex  index_num\n",
              "0   0     Tokyo        1990  Hiroshi  20.0     30.0    M        0.0\n",
              "1   1     Osaka        1989    Akiko  30.0     50.0    F        1.0\n",
              "2   2     Kyoto        1992     Yuki   NaN      NaN  NaN        NaN\n",
              "3   3  Hokkaido        1997   Satoru  50.0     50.0    F        2.0\n",
              "4   4     Tokyo        1982   Steeve   NaN      NaN  NaN        NaN\n",
              "5   6     Tokyo        1991   Mituru  70.0     70.0    M        3.0\n",
              "6   8     Osaka        1988      Aoi  90.0     20.0    M        4.0\n",
              "7  11     Kyoto        1990    Tarou   NaN      NaN  NaN        NaN\n",
              "8  12  Hokkaido        1995   Suguru   NaN      NaN  NaN        NaN\n",
              "9  13     Tokyo        1981   Mitsuo   NaN      NaN  NaN        NaN"
            ]
          },
          "metadata": {
            "tags": []
          },
          "execution_count": 12
        }
      ]
    },
    {
      "cell_type": "markdown",
      "metadata": {
        "id": "rFgwOj3I1wzH",
        "colab_type": "text"
      },
      "source": [
        "\n",
        "\n",
        "---\n",
        "\n"
      ]
    },
    {
      "cell_type": "markdown",
      "metadata": {
        "id": "MTUo-x6u1xqp",
        "colab_type": "text"
      },
      "source": [
        "<練習問題 3>\n",
        "\n",
        "attri_data_frame4に対して、以下のデータを縦結合してみましょう。"
      ]
    },
    {
      "cell_type": "code",
      "metadata": {
        "id": "MNXIXC3h1yno",
        "colab_type": "code",
        "colab": {}
      },
      "source": [
        "# データの準備\n",
        "attri_data6 = {'ID':['70','80','90','120','150']\n",
        "        ,'city':['Chiba','Kanagawa','Tokyo','Fukuoka','Okinawa']\n",
        "        ,'birth_year':[1980,1999,1995,1994,1994]\n",
        "        ,'name':['Suguru','Kouichi','Satochi','Yukie','Akari']}\n",
        "attri_data_frame6 = DataFrame(attri_data6)"
      ],
      "execution_count": 0,
      "outputs": []
    },
    {
      "cell_type": "code",
      "metadata": {
        "id": "3N4FCI-V11dK",
        "colab_type": "code",
        "outputId": "c6ba10df-7dcc-45e3-d4bf-d5ef970bc815",
        "colab": {
          "base_uri": "https://localhost:8080/",
          "height": 514
        }
      },
      "source": [
        "Concat = pd.concat([attri_data_frame4,attri_data_frame6])\n",
        "Concat"
      ],
      "execution_count": 14,
      "outputs": [
        {
          "output_type": "execute_result",
          "data": {
            "text/html": [
              "<div>\n",
              "<style scoped>\n",
              "    .dataframe tbody tr th:only-of-type {\n",
              "        vertical-align: middle;\n",
              "    }\n",
              "\n",
              "    .dataframe tbody tr th {\n",
              "        vertical-align: top;\n",
              "    }\n",
              "\n",
              "    .dataframe thead th {\n",
              "        text-align: right;\n",
              "    }\n",
              "</style>\n",
              "<table border=\"1\" class=\"dataframe\">\n",
              "  <thead>\n",
              "    <tr style=\"text-align: right;\">\n",
              "      <th></th>\n",
              "      <th>ID</th>\n",
              "      <th>city</th>\n",
              "      <th>birth_year</th>\n",
              "      <th>name</th>\n",
              "    </tr>\n",
              "  </thead>\n",
              "  <tbody>\n",
              "    <tr>\n",
              "      <th>0</th>\n",
              "      <td>0</td>\n",
              "      <td>Tokyo</td>\n",
              "      <td>1990</td>\n",
              "      <td>Hiroshi</td>\n",
              "    </tr>\n",
              "    <tr>\n",
              "      <th>1</th>\n",
              "      <td>1</td>\n",
              "      <td>Osaka</td>\n",
              "      <td>1989</td>\n",
              "      <td>Akiko</td>\n",
              "    </tr>\n",
              "    <tr>\n",
              "      <th>2</th>\n",
              "      <td>2</td>\n",
              "      <td>Kyoto</td>\n",
              "      <td>1992</td>\n",
              "      <td>Yuki</td>\n",
              "    </tr>\n",
              "    <tr>\n",
              "      <th>3</th>\n",
              "      <td>3</td>\n",
              "      <td>Hokkaido</td>\n",
              "      <td>1997</td>\n",
              "      <td>Satoru</td>\n",
              "    </tr>\n",
              "    <tr>\n",
              "      <th>4</th>\n",
              "      <td>4</td>\n",
              "      <td>Tokyo</td>\n",
              "      <td>1982</td>\n",
              "      <td>Steeve</td>\n",
              "    </tr>\n",
              "    <tr>\n",
              "      <th>5</th>\n",
              "      <td>6</td>\n",
              "      <td>Tokyo</td>\n",
              "      <td>1991</td>\n",
              "      <td>Mituru</td>\n",
              "    </tr>\n",
              "    <tr>\n",
              "      <th>6</th>\n",
              "      <td>8</td>\n",
              "      <td>Osaka</td>\n",
              "      <td>1988</td>\n",
              "      <td>Aoi</td>\n",
              "    </tr>\n",
              "    <tr>\n",
              "      <th>7</th>\n",
              "      <td>11</td>\n",
              "      <td>Kyoto</td>\n",
              "      <td>1990</td>\n",
              "      <td>Tarou</td>\n",
              "    </tr>\n",
              "    <tr>\n",
              "      <th>8</th>\n",
              "      <td>12</td>\n",
              "      <td>Hokkaido</td>\n",
              "      <td>1995</td>\n",
              "      <td>Suguru</td>\n",
              "    </tr>\n",
              "    <tr>\n",
              "      <th>9</th>\n",
              "      <td>13</td>\n",
              "      <td>Tokyo</td>\n",
              "      <td>1981</td>\n",
              "      <td>Mitsuo</td>\n",
              "    </tr>\n",
              "    <tr>\n",
              "      <th>0</th>\n",
              "      <td>70</td>\n",
              "      <td>Chiba</td>\n",
              "      <td>1980</td>\n",
              "      <td>Suguru</td>\n",
              "    </tr>\n",
              "    <tr>\n",
              "      <th>1</th>\n",
              "      <td>80</td>\n",
              "      <td>Kanagawa</td>\n",
              "      <td>1999</td>\n",
              "      <td>Kouichi</td>\n",
              "    </tr>\n",
              "    <tr>\n",
              "      <th>2</th>\n",
              "      <td>90</td>\n",
              "      <td>Tokyo</td>\n",
              "      <td>1995</td>\n",
              "      <td>Satochi</td>\n",
              "    </tr>\n",
              "    <tr>\n",
              "      <th>3</th>\n",
              "      <td>120</td>\n",
              "      <td>Fukuoka</td>\n",
              "      <td>1994</td>\n",
              "      <td>Yukie</td>\n",
              "    </tr>\n",
              "    <tr>\n",
              "      <th>4</th>\n",
              "      <td>150</td>\n",
              "      <td>Okinawa</td>\n",
              "      <td>1994</td>\n",
              "      <td>Akari</td>\n",
              "    </tr>\n",
              "  </tbody>\n",
              "</table>\n",
              "</div>"
            ],
            "text/plain": [
              "    ID      city  birth_year     name\n",
              "0    0     Tokyo        1990  Hiroshi\n",
              "1    1     Osaka        1989    Akiko\n",
              "2    2     Kyoto        1992     Yuki\n",
              "3    3  Hokkaido        1997   Satoru\n",
              "4    4     Tokyo        1982   Steeve\n",
              "5    6     Tokyo        1991   Mituru\n",
              "6    8     Osaka        1988      Aoi\n",
              "7   11     Kyoto        1990    Tarou\n",
              "8   12  Hokkaido        1995   Suguru\n",
              "9   13     Tokyo        1981   Mitsuo\n",
              "0   70     Chiba        1980   Suguru\n",
              "1   80  Kanagawa        1999  Kouichi\n",
              "2   90     Tokyo        1995  Satochi\n",
              "3  120   Fukuoka        1994    Yukie\n",
              "4  150   Okinawa        1994    Akari"
            ]
          },
          "metadata": {
            "tags": []
          },
          "execution_count": 14
        }
      ]
    },
    {
      "cell_type": "markdown",
      "metadata": {
        "id": "5LmykysG2Lvc",
        "colab_type": "text"
      },
      "source": [
        "\n",
        "\n",
        "---\n",
        "\n"
      ]
    },
    {
      "cell_type": "markdown",
      "metadata": {
        "id": "G-5c55a3yYm8",
        "colab_type": "text"
      },
      "source": [
        "## データの操作と変換"
      ]
    },
    {
      "cell_type": "markdown",
      "metadata": {
        "id": "CsbcwUI2ybPC",
        "colab_type": "text"
      },
      "source": [
        "<練習問題 1>\n",
        "\n",
        "以前の章で使用した「student-mat.csv」のデータを使います。ageを2倍にしたカラムを追加してみましょう。"
      ]
    },
    {
      "cell_type": "code",
      "metadata": {
        "id": "de3L8nOdyyuo",
        "colab_type": "code",
        "colab": {}
      },
      "source": [
        "# 以下のモジュールを使うので、あらかじめ読み込んでおいてください\n",
        "import numpy as np\n",
        "import numpy.random as random\n",
        "import scipy as sp\n",
        "import pandas as pd\n",
        "from pandas import Series, DataFrame\n",
        "\n",
        "# 可視化モジュール\n",
        "import matplotlib.pyplot as plt\n",
        "import matplotlib as mpl\n",
        "import seaborn as sns\n",
        "%matplotlib inline\n",
        "\n",
        "# 小数第３まで表示\n",
        "%precision 3\n",
        "\n",
        "# webからデータを取得したり、zipファイルを扱うためのモジュール\n",
        "import requests, zipfile\n",
        "from io import StringIO\n",
        "import io"
      ],
      "execution_count": 0,
      "outputs": []
    },
    {
      "cell_type": "code",
      "metadata": {
        "id": "QfK4joCK0Pbr",
        "colab_type": "code",
        "colab": {}
      },
      "source": [
        "# データがあるurl の指定\n",
        "zip_file_url = \"http://archive.ics.uci.edu/ml/machine-learning-databases/00356/student.zip\"\n",
        "\n",
        "# データをurlから取得する\n",
        "r = requests.get(zip_file_url, stream=True)\n",
        "\n",
        "# zipfileを読み込み展開する\n",
        "z = zipfile.ZipFile(io.BytesIO(r.content))\n",
        "z.extractall()"
      ],
      "execution_count": 0,
      "outputs": []
    },
    {
      "cell_type": "code",
      "metadata": {
        "id": "f0UpPMr00VHS",
        "colab_type": "code",
        "colab": {}
      },
      "source": [
        "student_data_math = pd.read_csv(\"student-mat.csv\", sep=\";\")\n",
        "student_data_math.head()"
      ],
      "execution_count": 0,
      "outputs": []
    },
    {
      "cell_type": "code",
      "metadata": {
        "id": "oe7eIMBJ0heW",
        "colab_type": "code",
        "outputId": "e3bb8032-0f01-48b1-b2e7-8a1dc87d8c3d",
        "colab": {
          "base_uri": "https://localhost:8080/",
          "height": 221
        }
      },
      "source": [
        "student_data_math_DoubleAge = student_data_math['age'].map(lambda x:int(x) * 2)\n",
        "student_data_math_DoubleAge"
      ],
      "execution_count": 18,
      "outputs": [
        {
          "output_type": "execute_result",
          "data": {
            "text/plain": [
              "0      36\n",
              "1      34\n",
              "2      30\n",
              "3      30\n",
              "4      32\n",
              "       ..\n",
              "390    40\n",
              "391    34\n",
              "392    42\n",
              "393    36\n",
              "394    38\n",
              "Name: age, Length: 395, dtype: int64"
            ]
          },
          "metadata": {
            "tags": []
          },
          "execution_count": 18
        }
      ]
    },
    {
      "cell_type": "markdown",
      "metadata": {
        "id": "IbrX6s5n18rG",
        "colab_type": "text"
      },
      "source": [
        "\n",
        "\n",
        "---\n",
        "\n"
      ]
    },
    {
      "cell_type": "markdown",
      "metadata": {
        "id": "-2edopcu19gN",
        "colab_type": "text"
      },
      "source": [
        "<練習問題 2>\n",
        "\n",
        "上記と同じデータで、「absences」のカラムについて、以下の3つのビンに分けてそれぞれの人数を数えてみましょう。なお、cutのオプション設定で、デフォルトは右側が閉区間になっていますが、今回は0が入るためのright=Falseを追加してください。"
      ]
    },
    {
      "cell_type": "code",
      "metadata": {
        "id": "FImQZ3hO2IZ0",
        "colab_type": "code",
        "colab": {}
      },
      "source": [
        "#　分割の粒度\n",
        "absences_bins = [0,1,5,100]"
      ],
      "execution_count": 0,
      "outputs": []
    },
    {
      "cell_type": "code",
      "metadata": {
        "id": "HTy8DXQm2J6j",
        "colab_type": "code",
        "outputId": "a550ecaa-a9d8-41a2-c4b3-3d11a6cb79d2",
        "colab": {
          "base_uri": "https://localhost:8080/",
          "height": 238
        }
      },
      "source": [
        "pd.cut(student_data_math.absences,absences_bins, right=False)"
      ],
      "execution_count": 20,
      "outputs": [
        {
          "output_type": "execute_result",
          "data": {
            "text/plain": [
              "0      [5, 100)\n",
              "1        [1, 5)\n",
              "2      [5, 100)\n",
              "3        [1, 5)\n",
              "4        [1, 5)\n",
              "         ...   \n",
              "390    [5, 100)\n",
              "391      [1, 5)\n",
              "392      [1, 5)\n",
              "393      [0, 1)\n",
              "394    [5, 100)\n",
              "Name: absences, Length: 395, dtype: category\n",
              "Categories (3, interval[int64]): [[0, 1) < [1, 5) < [5, 100)]"
            ]
          },
          "metadata": {
            "tags": []
          },
          "execution_count": 20
        }
      ]
    },
    {
      "cell_type": "markdown",
      "metadata": {
        "id": "SZJRxiYW2wSb",
        "colab_type": "text"
      },
      "source": [
        "\n",
        "\n",
        "---\n",
        "\n"
      ]
    },
    {
      "cell_type": "markdown",
      "metadata": {
        "id": "_hplQNHS2yha",
        "colab_type": "text"
      },
      "source": [
        "<練習問題 3>\n",
        "\n",
        "上記と同じデータで、「absences」のカラムについて、qcutを用いて3つのビンに分けてみましょう。"
      ]
    },
    {
      "cell_type": "code",
      "metadata": {
        "id": "w7dCKkdF2xPX",
        "colab_type": "code",
        "outputId": "9a965f64-bb65-43d3-fd03-0d6bd4eadeb9",
        "colab": {
          "base_uri": "https://localhost:8080/",
          "height": 85
        }
      },
      "source": [
        "pd.value_counts(pd.qcut(student_data_math.absences,3))"
      ],
      "execution_count": 21,
      "outputs": [
        {
          "output_type": "execute_result",
          "data": {
            "text/plain": [
              "(-0.001, 2.0]    183\n",
              "(6.0, 75.0]      115\n",
              "(2.0, 6.0]        97\n",
              "Name: absences, dtype: int64"
            ]
          },
          "metadata": {
            "tags": []
          },
          "execution_count": 21
        }
      ]
    },
    {
      "cell_type": "markdown",
      "metadata": {
        "id": "Br7lbor63FtB",
        "colab_type": "text"
      },
      "source": [
        "\n",
        "\n",
        "---\n",
        "\n"
      ]
    },
    {
      "cell_type": "markdown",
      "metadata": {
        "id": "yZnPFS62r6fm",
        "colab_type": "text"
      },
      "source": [
        "## データの集約とグループ演算"
      ]
    },
    {
      "cell_type": "markdown",
      "metadata": {
        "id": "iiU-qQqswqJc",
        "colab_type": "text"
      },
      "source": [
        "<練習問題 1>\n",
        "\n",
        "先ほど使用した「student-mat.csv」を使って「student-mat.csv」を使って、pandasの集計処理してみましょう。まずは、schoolを軸にして、G1の平均点をそれぞれ求めてみましょう。"
      ]
    },
    {
      "cell_type": "code",
      "metadata": {
        "id": "mMM4F08GxWKq",
        "colab_type": "code",
        "colab": {
          "base_uri": "https://localhost:8080/",
          "height": 142
        },
        "outputId": "e248e3c3-2ee2-401d-997d-51394eee65a9"
      },
      "source": [
        "student_data_math.groupby(\"school\")[(\"G1\",\"G2\",\"G3\")].mean()"
      ],
      "execution_count": 36,
      "outputs": [
        {
          "output_type": "execute_result",
          "data": {
            "text/html": [
              "<div>\n",
              "<style scoped>\n",
              "    .dataframe tbody tr th:only-of-type {\n",
              "        vertical-align: middle;\n",
              "    }\n",
              "\n",
              "    .dataframe tbody tr th {\n",
              "        vertical-align: top;\n",
              "    }\n",
              "\n",
              "    .dataframe thead th {\n",
              "        text-align: right;\n",
              "    }\n",
              "</style>\n",
              "<table border=\"1\" class=\"dataframe\">\n",
              "  <thead>\n",
              "    <tr style=\"text-align: right;\">\n",
              "      <th></th>\n",
              "      <th>G1</th>\n",
              "      <th>G2</th>\n",
              "      <th>G3</th>\n",
              "    </tr>\n",
              "    <tr>\n",
              "      <th>school</th>\n",
              "      <th></th>\n",
              "      <th></th>\n",
              "      <th></th>\n",
              "    </tr>\n",
              "  </thead>\n",
              "  <tbody>\n",
              "    <tr>\n",
              "      <th>GP</th>\n",
              "      <td>10.939828</td>\n",
              "      <td>10.782235</td>\n",
              "      <td>10.489971</td>\n",
              "    </tr>\n",
              "    <tr>\n",
              "      <th>MS</th>\n",
              "      <td>10.673913</td>\n",
              "      <td>10.195652</td>\n",
              "      <td>9.847826</td>\n",
              "    </tr>\n",
              "  </tbody>\n",
              "</table>\n",
              "</div>"
            ],
            "text/plain": [
              "               G1         G2         G3\n",
              "school                                 \n",
              "GP      10.939828  10.782235  10.489971\n",
              "MS      10.673913  10.195652   9.847826"
            ]
          },
          "metadata": {
            "tags": []
          },
          "execution_count": 36
        }
      ]
    },
    {
      "cell_type": "markdown",
      "metadata": {
        "id": "u9tw-hNyx_M3",
        "colab_type": "text"
      },
      "source": [
        "\n",
        "\n",
        "---\n",
        "\n"
      ]
    },
    {
      "cell_type": "markdown",
      "metadata": {
        "id": "ata660xvyABb",
        "colab_type": "text"
      },
      "source": [
        "<練習問題 2>\n",
        "\n",
        "次は、schoolと性別を軸にして、G1,G2,G3の平均点をそれぞれ求めてみましょう。"
      ]
    },
    {
      "cell_type": "code",
      "metadata": {
        "id": "U4CSqrsrxywn",
        "colab_type": "code",
        "colab": {
          "base_uri": "https://localhost:8080/",
          "height": 204
        },
        "outputId": "c02bfb92-1715-470f-b530-9a5f364dfbc0"
      },
      "source": [
        "student_data_math.groupby([\"school\",\"sex\"])[(\"G1\",\"G2\",\"G3\")].mean()"
      ],
      "execution_count": 37,
      "outputs": [
        {
          "output_type": "execute_result",
          "data": {
            "text/html": [
              "<div>\n",
              "<style scoped>\n",
              "    .dataframe tbody tr th:only-of-type {\n",
              "        vertical-align: middle;\n",
              "    }\n",
              "\n",
              "    .dataframe tbody tr th {\n",
              "        vertical-align: top;\n",
              "    }\n",
              "\n",
              "    .dataframe thead th {\n",
              "        text-align: right;\n",
              "    }\n",
              "</style>\n",
              "<table border=\"1\" class=\"dataframe\">\n",
              "  <thead>\n",
              "    <tr style=\"text-align: right;\">\n",
              "      <th></th>\n",
              "      <th></th>\n",
              "      <th>G1</th>\n",
              "      <th>G2</th>\n",
              "      <th>G3</th>\n",
              "    </tr>\n",
              "    <tr>\n",
              "      <th>school</th>\n",
              "      <th>sex</th>\n",
              "      <th></th>\n",
              "      <th></th>\n",
              "      <th></th>\n",
              "    </tr>\n",
              "  </thead>\n",
              "  <tbody>\n",
              "    <tr>\n",
              "      <th rowspan=\"2\" valign=\"top\">GP</th>\n",
              "      <th>F</th>\n",
              "      <td>10.579235</td>\n",
              "      <td>10.398907</td>\n",
              "      <td>9.972678</td>\n",
              "    </tr>\n",
              "    <tr>\n",
              "      <th>M</th>\n",
              "      <td>11.337349</td>\n",
              "      <td>11.204819</td>\n",
              "      <td>11.060241</td>\n",
              "    </tr>\n",
              "    <tr>\n",
              "      <th rowspan=\"2\" valign=\"top\">MS</th>\n",
              "      <th>F</th>\n",
              "      <td>10.920000</td>\n",
              "      <td>10.320000</td>\n",
              "      <td>9.920000</td>\n",
              "    </tr>\n",
              "    <tr>\n",
              "      <th>M</th>\n",
              "      <td>10.380952</td>\n",
              "      <td>10.047619</td>\n",
              "      <td>9.761905</td>\n",
              "    </tr>\n",
              "  </tbody>\n",
              "</table>\n",
              "</div>"
            ],
            "text/plain": [
              "                   G1         G2         G3\n",
              "school sex                                 \n",
              "GP     F    10.579235  10.398907   9.972678\n",
              "       M    11.337349  11.204819  11.060241\n",
              "MS     F    10.920000  10.320000   9.920000\n",
              "       M    10.380952  10.047619   9.761905"
            ]
          },
          "metadata": {
            "tags": []
          },
          "execution_count": 37
        }
      ]
    },
    {
      "cell_type": "markdown",
      "metadata": {
        "id": "92ItO_lOyDBU",
        "colab_type": "text"
      },
      "source": [
        "\n",
        "\n",
        "---\n",
        "\n"
      ]
    },
    {
      "cell_type": "markdown",
      "metadata": {
        "id": "j1whXRlhyD_T",
        "colab_type": "text"
      },
      "source": [
        "<練習問題 3>\n",
        "\n",
        "次は、schoolと性別を軸にして、G1,G2,G3の最大値、最小値をまとめて算出してみましょう。"
      ]
    },
    {
      "cell_type": "code",
      "metadata": {
        "id": "GPV6y0_hyF-n",
        "colab_type": "code",
        "colab": {
          "base_uri": "https://localhost:8080/",
          "height": 235
        },
        "outputId": "bc297120-4fc3-4477-882c-6b27a648dfc6"
      },
      "source": [
        "functions = ['min','max']\n",
        "student_data_math.groupby([\"school\",\"sex\"])[(\"G1\",\"G2\",\"G3\")].agg(functions)"
      ],
      "execution_count": 38,
      "outputs": [
        {
          "output_type": "execute_result",
          "data": {
            "text/html": [
              "<div>\n",
              "<style scoped>\n",
              "    .dataframe tbody tr th:only-of-type {\n",
              "        vertical-align: middle;\n",
              "    }\n",
              "\n",
              "    .dataframe tbody tr th {\n",
              "        vertical-align: top;\n",
              "    }\n",
              "\n",
              "    .dataframe thead tr th {\n",
              "        text-align: left;\n",
              "    }\n",
              "\n",
              "    .dataframe thead tr:last-of-type th {\n",
              "        text-align: right;\n",
              "    }\n",
              "</style>\n",
              "<table border=\"1\" class=\"dataframe\">\n",
              "  <thead>\n",
              "    <tr>\n",
              "      <th></th>\n",
              "      <th></th>\n",
              "      <th colspan=\"2\" halign=\"left\">G1</th>\n",
              "      <th colspan=\"2\" halign=\"left\">G2</th>\n",
              "      <th colspan=\"2\" halign=\"left\">G3</th>\n",
              "    </tr>\n",
              "    <tr>\n",
              "      <th></th>\n",
              "      <th></th>\n",
              "      <th>min</th>\n",
              "      <th>max</th>\n",
              "      <th>min</th>\n",
              "      <th>max</th>\n",
              "      <th>min</th>\n",
              "      <th>max</th>\n",
              "    </tr>\n",
              "    <tr>\n",
              "      <th>school</th>\n",
              "      <th>sex</th>\n",
              "      <th></th>\n",
              "      <th></th>\n",
              "      <th></th>\n",
              "      <th></th>\n",
              "      <th></th>\n",
              "      <th></th>\n",
              "    </tr>\n",
              "  </thead>\n",
              "  <tbody>\n",
              "    <tr>\n",
              "      <th rowspan=\"2\" valign=\"top\">GP</th>\n",
              "      <th>F</th>\n",
              "      <td>4</td>\n",
              "      <td>18</td>\n",
              "      <td>0</td>\n",
              "      <td>18</td>\n",
              "      <td>0</td>\n",
              "      <td>19</td>\n",
              "    </tr>\n",
              "    <tr>\n",
              "      <th>M</th>\n",
              "      <td>3</td>\n",
              "      <td>19</td>\n",
              "      <td>0</td>\n",
              "      <td>19</td>\n",
              "      <td>0</td>\n",
              "      <td>20</td>\n",
              "    </tr>\n",
              "    <tr>\n",
              "      <th rowspan=\"2\" valign=\"top\">MS</th>\n",
              "      <th>F</th>\n",
              "      <td>6</td>\n",
              "      <td>19</td>\n",
              "      <td>5</td>\n",
              "      <td>18</td>\n",
              "      <td>0</td>\n",
              "      <td>19</td>\n",
              "    </tr>\n",
              "    <tr>\n",
              "      <th>M</th>\n",
              "      <td>6</td>\n",
              "      <td>15</td>\n",
              "      <td>5</td>\n",
              "      <td>16</td>\n",
              "      <td>0</td>\n",
              "      <td>16</td>\n",
              "    </tr>\n",
              "  </tbody>\n",
              "</table>\n",
              "</div>"
            ],
            "text/plain": [
              "            G1      G2      G3    \n",
              "           min max min max min max\n",
              "school sex                        \n",
              "GP     F     4  18   0  18   0  19\n",
              "       M     3  19   0  19   0  20\n",
              "MS     F     6  19   5  18   0  19\n",
              "       M     6  15   5  16   0  16"
            ]
          },
          "metadata": {
            "tags": []
          },
          "execution_count": 38
        }
      ]
    },
    {
      "cell_type": "markdown",
      "metadata": {
        "id": "4A0mMst3yc5M",
        "colab_type": "text"
      },
      "source": [
        "\n",
        "\n",
        "---\n",
        "\n"
      ]
    },
    {
      "cell_type": "markdown",
      "metadata": {
        "id": "oiAaXui82oaJ",
        "colab_type": "text"
      },
      "source": [
        "# 欠損データと異常値の取り扱いの基礎"
      ]
    },
    {
      "cell_type": "markdown",
      "metadata": {
        "id": "ZBY3vbX_2r5I",
        "colab_type": "text"
      },
      "source": [
        "## 欠損データの扱い方"
      ]
    },
    {
      "cell_type": "markdown",
      "metadata": {
        "id": "F871qDdn30v-",
        "colab_type": "text"
      },
      "source": [
        "<練習問題 1>\n",
        "\n",
        "以下のデータに対して、1列でもNaNがある場合は削除し、その結果を表示してください。"
      ]
    },
    {
      "cell_type": "code",
      "metadata": {
        "id": "pgYKKxHZ31P4",
        "colab_type": "code",
        "colab": {
          "base_uri": "https://localhost:8080/",
          "height": 328
        },
        "outputId": "cb8b97ed-d7d6-4171-b0da-a71b4f313bcf"
      },
      "source": [
        "# データの準備\n",
        "import numpy as np\n",
        "from numpy import nan as NA\n",
        "import pandas as pd\n",
        "\n",
        "\n",
        "sample_data_frame2 = pd.DataFrame(np.random.rand(15,6))\n",
        "\n",
        "# NAにする\n",
        "sample_data_frame2.iloc[2,0] = NA\n",
        "sample_data_frame2.iloc[5:8,2] = NA\n",
        "sample_data_frame2.iloc[7:9,3] = NA\n",
        "sample_data_frame2.iloc[10,5] = NA\n",
        "\n",
        "\n",
        "sample_data_frame2.dropna()"
      ],
      "execution_count": 42,
      "outputs": [
        {
          "output_type": "execute_result",
          "data": {
            "text/html": [
              "<div>\n",
              "<style scoped>\n",
              "    .dataframe tbody tr th:only-of-type {\n",
              "        vertical-align: middle;\n",
              "    }\n",
              "\n",
              "    .dataframe tbody tr th {\n",
              "        vertical-align: top;\n",
              "    }\n",
              "\n",
              "    .dataframe thead th {\n",
              "        text-align: right;\n",
              "    }\n",
              "</style>\n",
              "<table border=\"1\" class=\"dataframe\">\n",
              "  <thead>\n",
              "    <tr style=\"text-align: right;\">\n",
              "      <th></th>\n",
              "      <th>0</th>\n",
              "      <th>1</th>\n",
              "      <th>2</th>\n",
              "      <th>3</th>\n",
              "      <th>4</th>\n",
              "      <th>5</th>\n",
              "    </tr>\n",
              "  </thead>\n",
              "  <tbody>\n",
              "    <tr>\n",
              "      <th>0</th>\n",
              "      <td>0.342754</td>\n",
              "      <td>0.942487</td>\n",
              "      <td>0.942639</td>\n",
              "      <td>0.242672</td>\n",
              "      <td>0.184331</td>\n",
              "      <td>0.150460</td>\n",
              "    </tr>\n",
              "    <tr>\n",
              "      <th>1</th>\n",
              "      <td>0.591888</td>\n",
              "      <td>0.332031</td>\n",
              "      <td>0.889600</td>\n",
              "      <td>0.410955</td>\n",
              "      <td>0.465420</td>\n",
              "      <td>0.576582</td>\n",
              "    </tr>\n",
              "    <tr>\n",
              "      <th>3</th>\n",
              "      <td>0.574885</td>\n",
              "      <td>0.494346</td>\n",
              "      <td>0.965483</td>\n",
              "      <td>0.126113</td>\n",
              "      <td>0.955866</td>\n",
              "      <td>0.745723</td>\n",
              "    </tr>\n",
              "    <tr>\n",
              "      <th>4</th>\n",
              "      <td>0.759183</td>\n",
              "      <td>0.581324</td>\n",
              "      <td>0.526032</td>\n",
              "      <td>0.906269</td>\n",
              "      <td>0.629506</td>\n",
              "      <td>0.719709</td>\n",
              "    </tr>\n",
              "    <tr>\n",
              "      <th>9</th>\n",
              "      <td>0.093970</td>\n",
              "      <td>0.560863</td>\n",
              "      <td>0.595692</td>\n",
              "      <td>0.009892</td>\n",
              "      <td>0.219868</td>\n",
              "      <td>0.026847</td>\n",
              "    </tr>\n",
              "    <tr>\n",
              "      <th>11</th>\n",
              "      <td>0.724883</td>\n",
              "      <td>0.806882</td>\n",
              "      <td>0.432191</td>\n",
              "      <td>0.676989</td>\n",
              "      <td>0.983871</td>\n",
              "      <td>0.367395</td>\n",
              "    </tr>\n",
              "    <tr>\n",
              "      <th>12</th>\n",
              "      <td>0.834132</td>\n",
              "      <td>0.950073</td>\n",
              "      <td>0.118419</td>\n",
              "      <td>0.191660</td>\n",
              "      <td>0.994802</td>\n",
              "      <td>0.481784</td>\n",
              "    </tr>\n",
              "    <tr>\n",
              "      <th>13</th>\n",
              "      <td>0.244582</td>\n",
              "      <td>0.942288</td>\n",
              "      <td>0.893191</td>\n",
              "      <td>0.826535</td>\n",
              "      <td>0.108556</td>\n",
              "      <td>0.587200</td>\n",
              "    </tr>\n",
              "    <tr>\n",
              "      <th>14</th>\n",
              "      <td>0.876645</td>\n",
              "      <td>0.100968</td>\n",
              "      <td>0.790718</td>\n",
              "      <td>0.983319</td>\n",
              "      <td>0.454467</td>\n",
              "      <td>0.005871</td>\n",
              "    </tr>\n",
              "  </tbody>\n",
              "</table>\n",
              "</div>"
            ],
            "text/plain": [
              "           0         1         2         3         4         5\n",
              "0   0.342754  0.942487  0.942639  0.242672  0.184331  0.150460\n",
              "1   0.591888  0.332031  0.889600  0.410955  0.465420  0.576582\n",
              "3   0.574885  0.494346  0.965483  0.126113  0.955866  0.745723\n",
              "4   0.759183  0.581324  0.526032  0.906269  0.629506  0.719709\n",
              "9   0.093970  0.560863  0.595692  0.009892  0.219868  0.026847\n",
              "11  0.724883  0.806882  0.432191  0.676989  0.983871  0.367395\n",
              "12  0.834132  0.950073  0.118419  0.191660  0.994802  0.481784\n",
              "13  0.244582  0.942288  0.893191  0.826535  0.108556  0.587200\n",
              "14  0.876645  0.100968  0.790718  0.983319  0.454467  0.005871"
            ]
          },
          "metadata": {
            "tags": []
          },
          "execution_count": 42
        }
      ]
    },
    {
      "cell_type": "markdown",
      "metadata": {
        "id": "DFVd3Sj04mSM",
        "colab_type": "text"
      },
      "source": [
        "\n",
        "\n",
        "---\n",
        "\n"
      ]
    },
    {
      "cell_type": "markdown",
      "metadata": {
        "id": "qie5kbMg4oAD",
        "colab_type": "text"
      },
      "source": [
        "<練習問題 2>\n",
        "\n",
        "上記で準備したデータに対して、NaNを0で埋めてください。"
      ]
    },
    {
      "cell_type": "code",
      "metadata": {
        "id": "nhn8uSHY4uHq",
        "colab_type": "code",
        "colab": {
          "base_uri": "https://localhost:8080/",
          "height": 514
        },
        "outputId": "60aa0ef6-e475-4cd0-dbd7-b0efe15928f3"
      },
      "source": [
        "sample_data_frame2.fillna(0)"
      ],
      "execution_count": 43,
      "outputs": [
        {
          "output_type": "execute_result",
          "data": {
            "text/html": [
              "<div>\n",
              "<style scoped>\n",
              "    .dataframe tbody tr th:only-of-type {\n",
              "        vertical-align: middle;\n",
              "    }\n",
              "\n",
              "    .dataframe tbody tr th {\n",
              "        vertical-align: top;\n",
              "    }\n",
              "\n",
              "    .dataframe thead th {\n",
              "        text-align: right;\n",
              "    }\n",
              "</style>\n",
              "<table border=\"1\" class=\"dataframe\">\n",
              "  <thead>\n",
              "    <tr style=\"text-align: right;\">\n",
              "      <th></th>\n",
              "      <th>0</th>\n",
              "      <th>1</th>\n",
              "      <th>2</th>\n",
              "      <th>3</th>\n",
              "      <th>4</th>\n",
              "      <th>5</th>\n",
              "    </tr>\n",
              "  </thead>\n",
              "  <tbody>\n",
              "    <tr>\n",
              "      <th>0</th>\n",
              "      <td>0.342754</td>\n",
              "      <td>0.942487</td>\n",
              "      <td>0.942639</td>\n",
              "      <td>0.242672</td>\n",
              "      <td>0.184331</td>\n",
              "      <td>0.150460</td>\n",
              "    </tr>\n",
              "    <tr>\n",
              "      <th>1</th>\n",
              "      <td>0.591888</td>\n",
              "      <td>0.332031</td>\n",
              "      <td>0.889600</td>\n",
              "      <td>0.410955</td>\n",
              "      <td>0.465420</td>\n",
              "      <td>0.576582</td>\n",
              "    </tr>\n",
              "    <tr>\n",
              "      <th>2</th>\n",
              "      <td>0.000000</td>\n",
              "      <td>0.132168</td>\n",
              "      <td>0.601493</td>\n",
              "      <td>0.953448</td>\n",
              "      <td>0.322781</td>\n",
              "      <td>0.820267</td>\n",
              "    </tr>\n",
              "    <tr>\n",
              "      <th>3</th>\n",
              "      <td>0.574885</td>\n",
              "      <td>0.494346</td>\n",
              "      <td>0.965483</td>\n",
              "      <td>0.126113</td>\n",
              "      <td>0.955866</td>\n",
              "      <td>0.745723</td>\n",
              "    </tr>\n",
              "    <tr>\n",
              "      <th>4</th>\n",
              "      <td>0.759183</td>\n",
              "      <td>0.581324</td>\n",
              "      <td>0.526032</td>\n",
              "      <td>0.906269</td>\n",
              "      <td>0.629506</td>\n",
              "      <td>0.719709</td>\n",
              "    </tr>\n",
              "    <tr>\n",
              "      <th>5</th>\n",
              "      <td>0.045896</td>\n",
              "      <td>0.299225</td>\n",
              "      <td>0.000000</td>\n",
              "      <td>0.849600</td>\n",
              "      <td>0.412251</td>\n",
              "      <td>0.601501</td>\n",
              "    </tr>\n",
              "    <tr>\n",
              "      <th>6</th>\n",
              "      <td>0.381779</td>\n",
              "      <td>0.045255</td>\n",
              "      <td>0.000000</td>\n",
              "      <td>0.080963</td>\n",
              "      <td>0.972324</td>\n",
              "      <td>0.997884</td>\n",
              "    </tr>\n",
              "    <tr>\n",
              "      <th>7</th>\n",
              "      <td>0.129026</td>\n",
              "      <td>0.910951</td>\n",
              "      <td>0.000000</td>\n",
              "      <td>0.000000</td>\n",
              "      <td>0.220207</td>\n",
              "      <td>0.035120</td>\n",
              "    </tr>\n",
              "    <tr>\n",
              "      <th>8</th>\n",
              "      <td>0.604430</td>\n",
              "      <td>0.659499</td>\n",
              "      <td>0.135319</td>\n",
              "      <td>0.000000</td>\n",
              "      <td>0.628985</td>\n",
              "      <td>0.512630</td>\n",
              "    </tr>\n",
              "    <tr>\n",
              "      <th>9</th>\n",
              "      <td>0.093970</td>\n",
              "      <td>0.560863</td>\n",
              "      <td>0.595692</td>\n",
              "      <td>0.009892</td>\n",
              "      <td>0.219868</td>\n",
              "      <td>0.026847</td>\n",
              "    </tr>\n",
              "    <tr>\n",
              "      <th>10</th>\n",
              "      <td>0.496606</td>\n",
              "      <td>0.535195</td>\n",
              "      <td>0.682087</td>\n",
              "      <td>0.526764</td>\n",
              "      <td>0.807611</td>\n",
              "      <td>0.000000</td>\n",
              "    </tr>\n",
              "    <tr>\n",
              "      <th>11</th>\n",
              "      <td>0.724883</td>\n",
              "      <td>0.806882</td>\n",
              "      <td>0.432191</td>\n",
              "      <td>0.676989</td>\n",
              "      <td>0.983871</td>\n",
              "      <td>0.367395</td>\n",
              "    </tr>\n",
              "    <tr>\n",
              "      <th>12</th>\n",
              "      <td>0.834132</td>\n",
              "      <td>0.950073</td>\n",
              "      <td>0.118419</td>\n",
              "      <td>0.191660</td>\n",
              "      <td>0.994802</td>\n",
              "      <td>0.481784</td>\n",
              "    </tr>\n",
              "    <tr>\n",
              "      <th>13</th>\n",
              "      <td>0.244582</td>\n",
              "      <td>0.942288</td>\n",
              "      <td>0.893191</td>\n",
              "      <td>0.826535</td>\n",
              "      <td>0.108556</td>\n",
              "      <td>0.587200</td>\n",
              "    </tr>\n",
              "    <tr>\n",
              "      <th>14</th>\n",
              "      <td>0.876645</td>\n",
              "      <td>0.100968</td>\n",
              "      <td>0.790718</td>\n",
              "      <td>0.983319</td>\n",
              "      <td>0.454467</td>\n",
              "      <td>0.005871</td>\n",
              "    </tr>\n",
              "  </tbody>\n",
              "</table>\n",
              "</div>"
            ],
            "text/plain": [
              "           0         1         2         3         4         5\n",
              "0   0.342754  0.942487  0.942639  0.242672  0.184331  0.150460\n",
              "1   0.591888  0.332031  0.889600  0.410955  0.465420  0.576582\n",
              "2   0.000000  0.132168  0.601493  0.953448  0.322781  0.820267\n",
              "3   0.574885  0.494346  0.965483  0.126113  0.955866  0.745723\n",
              "4   0.759183  0.581324  0.526032  0.906269  0.629506  0.719709\n",
              "5   0.045896  0.299225  0.000000  0.849600  0.412251  0.601501\n",
              "6   0.381779  0.045255  0.000000  0.080963  0.972324  0.997884\n",
              "7   0.129026  0.910951  0.000000  0.000000  0.220207  0.035120\n",
              "8   0.604430  0.659499  0.135319  0.000000  0.628985  0.512630\n",
              "9   0.093970  0.560863  0.595692  0.009892  0.219868  0.026847\n",
              "10  0.496606  0.535195  0.682087  0.526764  0.807611  0.000000\n",
              "11  0.724883  0.806882  0.432191  0.676989  0.983871  0.367395\n",
              "12  0.834132  0.950073  0.118419  0.191660  0.994802  0.481784\n",
              "13  0.244582  0.942288  0.893191  0.826535  0.108556  0.587200\n",
              "14  0.876645  0.100968  0.790718  0.983319  0.454467  0.005871"
            ]
          },
          "metadata": {
            "tags": []
          },
          "execution_count": 43
        }
      ]
    },
    {
      "cell_type": "markdown",
      "metadata": {
        "id": "k1EU75zj44-9",
        "colab_type": "text"
      },
      "source": [
        "\n",
        "\n",
        "---\n",
        "\n"
      ]
    },
    {
      "cell_type": "markdown",
      "metadata": {
        "id": "I62pZtfQ454Y",
        "colab_type": "text"
      },
      "source": [
        "<練習問題 3>\n",
        "\n",
        "上記で準備したデータに対して、NaNをそれぞれの列の平均値で埋めてください。"
      ]
    },
    {
      "cell_type": "code",
      "metadata": {
        "id": "vh2IZiey46g-",
        "colab_type": "code",
        "colab": {
          "base_uri": "https://localhost:8080/",
          "height": 514
        },
        "outputId": "17297184-af10-4996-b5de-56ace48a5c48"
      },
      "source": [
        "sample_data_frame2.fillna(sample_data_frame2.mean())"
      ],
      "execution_count": 44,
      "outputs": [
        {
          "output_type": "execute_result",
          "data": {
            "text/html": [
              "<div>\n",
              "<style scoped>\n",
              "    .dataframe tbody tr th:only-of-type {\n",
              "        vertical-align: middle;\n",
              "    }\n",
              "\n",
              "    .dataframe tbody tr th {\n",
              "        vertical-align: top;\n",
              "    }\n",
              "\n",
              "    .dataframe thead th {\n",
              "        text-align: right;\n",
              "    }\n",
              "</style>\n",
              "<table border=\"1\" class=\"dataframe\">\n",
              "  <thead>\n",
              "    <tr style=\"text-align: right;\">\n",
              "      <th></th>\n",
              "      <th>0</th>\n",
              "      <th>1</th>\n",
              "      <th>2</th>\n",
              "      <th>3</th>\n",
              "      <th>4</th>\n",
              "      <th>5</th>\n",
              "    </tr>\n",
              "  </thead>\n",
              "  <tbody>\n",
              "    <tr>\n",
              "      <th>0</th>\n",
              "      <td>0.342754</td>\n",
              "      <td>0.942487</td>\n",
              "      <td>0.942639</td>\n",
              "      <td>0.242672</td>\n",
              "      <td>0.184331</td>\n",
              "      <td>0.150460</td>\n",
              "    </tr>\n",
              "    <tr>\n",
              "      <th>1</th>\n",
              "      <td>0.591888</td>\n",
              "      <td>0.332031</td>\n",
              "      <td>0.889600</td>\n",
              "      <td>0.410955</td>\n",
              "      <td>0.465420</td>\n",
              "      <td>0.576582</td>\n",
              "    </tr>\n",
              "    <tr>\n",
              "      <th>2</th>\n",
              "      <td>0.478619</td>\n",
              "      <td>0.132168</td>\n",
              "      <td>0.601493</td>\n",
              "      <td>0.953448</td>\n",
              "      <td>0.322781</td>\n",
              "      <td>0.820267</td>\n",
              "    </tr>\n",
              "    <tr>\n",
              "      <th>3</th>\n",
              "      <td>0.574885</td>\n",
              "      <td>0.494346</td>\n",
              "      <td>0.965483</td>\n",
              "      <td>0.126113</td>\n",
              "      <td>0.955866</td>\n",
              "      <td>0.745723</td>\n",
              "    </tr>\n",
              "    <tr>\n",
              "      <th>4</th>\n",
              "      <td>0.759183</td>\n",
              "      <td>0.581324</td>\n",
              "      <td>0.526032</td>\n",
              "      <td>0.906269</td>\n",
              "      <td>0.629506</td>\n",
              "      <td>0.719709</td>\n",
              "    </tr>\n",
              "    <tr>\n",
              "      <th>5</th>\n",
              "      <td>0.045896</td>\n",
              "      <td>0.299225</td>\n",
              "      <td>0.631072</td>\n",
              "      <td>0.849600</td>\n",
              "      <td>0.412251</td>\n",
              "      <td>0.601501</td>\n",
              "    </tr>\n",
              "    <tr>\n",
              "      <th>6</th>\n",
              "      <td>0.381779</td>\n",
              "      <td>0.045255</td>\n",
              "      <td>0.631072</td>\n",
              "      <td>0.080963</td>\n",
              "      <td>0.972324</td>\n",
              "      <td>0.997884</td>\n",
              "    </tr>\n",
              "    <tr>\n",
              "      <th>7</th>\n",
              "      <td>0.129026</td>\n",
              "      <td>0.910951</td>\n",
              "      <td>0.631072</td>\n",
              "      <td>0.521937</td>\n",
              "      <td>0.220207</td>\n",
              "      <td>0.035120</td>\n",
              "    </tr>\n",
              "    <tr>\n",
              "      <th>8</th>\n",
              "      <td>0.604430</td>\n",
              "      <td>0.659499</td>\n",
              "      <td>0.135319</td>\n",
              "      <td>0.521937</td>\n",
              "      <td>0.628985</td>\n",
              "      <td>0.512630</td>\n",
              "    </tr>\n",
              "    <tr>\n",
              "      <th>9</th>\n",
              "      <td>0.093970</td>\n",
              "      <td>0.560863</td>\n",
              "      <td>0.595692</td>\n",
              "      <td>0.009892</td>\n",
              "      <td>0.219868</td>\n",
              "      <td>0.026847</td>\n",
              "    </tr>\n",
              "    <tr>\n",
              "      <th>10</th>\n",
              "      <td>0.496606</td>\n",
              "      <td>0.535195</td>\n",
              "      <td>0.682087</td>\n",
              "      <td>0.526764</td>\n",
              "      <td>0.807611</td>\n",
              "      <td>0.473498</td>\n",
              "    </tr>\n",
              "    <tr>\n",
              "      <th>11</th>\n",
              "      <td>0.724883</td>\n",
              "      <td>0.806882</td>\n",
              "      <td>0.432191</td>\n",
              "      <td>0.676989</td>\n",
              "      <td>0.983871</td>\n",
              "      <td>0.367395</td>\n",
              "    </tr>\n",
              "    <tr>\n",
              "      <th>12</th>\n",
              "      <td>0.834132</td>\n",
              "      <td>0.950073</td>\n",
              "      <td>0.118419</td>\n",
              "      <td>0.191660</td>\n",
              "      <td>0.994802</td>\n",
              "      <td>0.481784</td>\n",
              "    </tr>\n",
              "    <tr>\n",
              "      <th>13</th>\n",
              "      <td>0.244582</td>\n",
              "      <td>0.942288</td>\n",
              "      <td>0.893191</td>\n",
              "      <td>0.826535</td>\n",
              "      <td>0.108556</td>\n",
              "      <td>0.587200</td>\n",
              "    </tr>\n",
              "    <tr>\n",
              "      <th>14</th>\n",
              "      <td>0.876645</td>\n",
              "      <td>0.100968</td>\n",
              "      <td>0.790718</td>\n",
              "      <td>0.983319</td>\n",
              "      <td>0.454467</td>\n",
              "      <td>0.005871</td>\n",
              "    </tr>\n",
              "  </tbody>\n",
              "</table>\n",
              "</div>"
            ],
            "text/plain": [
              "           0         1         2         3         4         5\n",
              "0   0.342754  0.942487  0.942639  0.242672  0.184331  0.150460\n",
              "1   0.591888  0.332031  0.889600  0.410955  0.465420  0.576582\n",
              "2   0.478619  0.132168  0.601493  0.953448  0.322781  0.820267\n",
              "3   0.574885  0.494346  0.965483  0.126113  0.955866  0.745723\n",
              "4   0.759183  0.581324  0.526032  0.906269  0.629506  0.719709\n",
              "5   0.045896  0.299225  0.631072  0.849600  0.412251  0.601501\n",
              "6   0.381779  0.045255  0.631072  0.080963  0.972324  0.997884\n",
              "7   0.129026  0.910951  0.631072  0.521937  0.220207  0.035120\n",
              "8   0.604430  0.659499  0.135319  0.521937  0.628985  0.512630\n",
              "9   0.093970  0.560863  0.595692  0.009892  0.219868  0.026847\n",
              "10  0.496606  0.535195  0.682087  0.526764  0.807611  0.473498\n",
              "11  0.724883  0.806882  0.432191  0.676989  0.983871  0.367395\n",
              "12  0.834132  0.950073  0.118419  0.191660  0.994802  0.481784\n",
              "13  0.244582  0.942288  0.893191  0.826535  0.108556  0.587200\n",
              "14  0.876645  0.100968  0.790718  0.983319  0.454467  0.005871"
            ]
          },
          "metadata": {
            "tags": []
          },
          "execution_count": 44
        }
      ]
    },
    {
      "cell_type": "markdown",
      "metadata": {
        "id": "EFo7C8Xc5HOo",
        "colab_type": "text"
      },
      "source": [
        "\n",
        "\n",
        "---\n",
        "\n"
      ]
    }
  ]
}